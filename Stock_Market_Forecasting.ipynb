import pandas as pd
from sklearn.linear_model import LinearRegression
import numpy as np

# Load dataset
data = pd.read_csv("data/stock_data.csv")

# Simple forecast using linear regression (predict next day's close)
data['day_num'] = np.arange(len(data))
X = data[['day_num']]
y = data['close']

model = LinearRegression()
model.fit(X, y)

# Predict next day
next_day = np.array([[len(data)]])
predicted_close = model.predict(next_day)[0]

print(f"Predicted next day's closing price: {predicted_close:.2f}")
